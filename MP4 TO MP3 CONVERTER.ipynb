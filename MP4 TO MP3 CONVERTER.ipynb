{
 "cells": [
  {
   "cell_type": "code",
   "execution_count": null,
   "metadata": {},
   "outputs": [],
   "source": [
    "from tkinter import TK, Button\n",
    "import moviepy.editor as mp\n",
    "import os\n",
    "import re\n",
    "from tkinter.filedialog import askdirectory\n",
    "from tkinter import messagebox\n",
    "\n",
    "root = Tk()\n",
    "root.title(\"Video Mp4 to Mp3 Audio converter\")\n",
    "root.configure(background=\"green\")\n",
    "root.minsize(\"width=500,height=100\")\n",
    "root.resizable(width=False,height=False)\n",
    "\n",
    "def open_mp4_folder():\n",
    "    global mp4_directory\n",
    "    mp4_directory=askdirectory()\n",
    "    print(mp4_directory)\n",
    "    \n",
    "def open_mp3_folder():\n",
    "    global mp3_directory\n",
    "    mp4_directory=askdirectory()\n",
    "    print(mp3_directory)\n",
    "    \n",
    "def convert():\n",
    "    for file [n for n in os.listdir(mp4_directory) if re.search(\".mp4\",n)]:\n",
    "        full_path = os.path.join(mp4_directory,file)\n",
    "        output_path = os.path.join(mp3_directory, os.path.splitext(file)[0]+ \".mp3\")\n",
    "        audioclip = mp.AudioFile(full_path)\n",
    "        audioclip.write_audiofile(output_path)\n",
    "        messagebox.showinfo(\"Complete\",\"MP4 file converted to Mp3 Successfully\")\n",
    "\n",
    "mp4_btn = Button(root,text=\"Choose Mp4 Folder\", width=25, command=open_mp4_folder,bg=\"blue\",fg=\"white\")\n",
    "mp4_btn.grid(row=1,column=0,padx = 15, pady = 15)\n",
    "\n",
    "mp3_btn = Button(root,text=\"Choose Mp3 Folder\", width=25, command=open_mp3_folder,bg=\"red\",fg=\"white\")\n",
    "mp3_btn.grid(row=1,column=1)\n",
    "\n",
    "convert_btn = Button(root,text=\"Convert Mp4 to Mp3\", width=25, command=convert,bg=\"black\",fg=\"white\")\n",
    "convert_btn.grid(row=2,column=0)\n",
    "\n",
    "\n",
    "exit_btn = Button(root,text=\"Exit Application\", width=25, command=root.destroy,bg=\"yellow\",fg=\"white\")\n",
    "exit_btn.grid(row=2,column=1)\n",
    "\n",
    "\n",
    "\n",
    "\n",
    "root.mainloop()"
   ]
  }
 ],
 "metadata": {
  "kernelspec": {
   "display_name": "Python 3",
   "language": "python",
   "name": "python3"
  },
  "language_info": {
   "codemirror_mode": {
    "name": "ipython",
    "version": 3
   },
   "file_extension": ".py",
   "mimetype": "text/x-python",
   "name": "python",
   "nbconvert_exporter": "python",
   "pygments_lexer": "ipython3",
   "version": "3.7.4"
  }
 },
 "nbformat": 4,
 "nbformat_minor": 2
}
